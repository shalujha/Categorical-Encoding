{
  "nbformat": 4,
  "nbformat_minor": 0,
  "metadata": {
    "colab": {
      "name": "Categorical_Encoding.ipynb",
      "provenance": []
    },
    "kernelspec": {
      "name": "python3",
      "display_name": "Python 3"
    }
  },
  "cells": [
    {
      "cell_type": "code",
      "metadata": {
        "id": "rrAyErhPVgNd",
        "colab_type": "code",
        "colab": {
          "base_uri": "https://localhost:8080/",
          "height": 474
        },
        "outputId": "beba2dae-e1ba-4f93-b195-4cb586020771"
      },
      "source": [
        "!wget https://www.dropbox.com/s/axmqrk2q9yroa1w/Complete-Feature-Engineering-master.zip?dl=0"
      ],
      "execution_count": null,
      "outputs": [
        {
          "output_type": "stream",
          "text": [
            "--2020-08-12 21:15:19--  https://www.dropbox.com/s/axmqrk2q9yroa1w/Complete-Feature-Engineering-master.zip?dl=0\n",
            "Resolving www.dropbox.com (www.dropbox.com)... 162.125.5.1, 2620:100:601d:1::a27d:501\n",
            "Connecting to www.dropbox.com (www.dropbox.com)|162.125.5.1|:443... connected.\n",
            "HTTP request sent, awaiting response... 301 Moved Permanently\n",
            "Location: /s/raw/axmqrk2q9yroa1w/Complete-Feature-Engineering-master.zip [following]\n",
            "--2020-08-12 21:15:19--  https://www.dropbox.com/s/raw/axmqrk2q9yroa1w/Complete-Feature-Engineering-master.zip\n",
            "Reusing existing connection to www.dropbox.com:443.\n",
            "HTTP request sent, awaiting response... 302 Found\n",
            "Location: https://uc68abc80966f4feda6abe4d8581.dl.dropboxusercontent.com/cd/0/inline/A9WJ2pb-9dAw14Kac4vikf2Vq9qOeUUf1YXl1N1W_48JSPX7qOxMoeH1mPITPSvxwvtpHbw6_qdemZUbL9MRzwQzQv33EBgXqZ0qeF8_i67ipJEuCYrNtzPC91o5z78EdAo/file# [following]\n",
            "--2020-08-12 21:15:19--  https://uc68abc80966f4feda6abe4d8581.dl.dropboxusercontent.com/cd/0/inline/A9WJ2pb-9dAw14Kac4vikf2Vq9qOeUUf1YXl1N1W_48JSPX7qOxMoeH1mPITPSvxwvtpHbw6_qdemZUbL9MRzwQzQv33EBgXqZ0qeF8_i67ipJEuCYrNtzPC91o5z78EdAo/file\n",
            "Resolving uc68abc80966f4feda6abe4d8581.dl.dropboxusercontent.com (uc68abc80966f4feda6abe4d8581.dl.dropboxusercontent.com)... 162.125.5.15, 2620:100:601d:15::a27d:50f\n",
            "Connecting to uc68abc80966f4feda6abe4d8581.dl.dropboxusercontent.com (uc68abc80966f4feda6abe4d8581.dl.dropboxusercontent.com)|162.125.5.15|:443... connected.\n",
            "HTTP request sent, awaiting response... 302 Found\n",
            "Location: /cd/0/inline2/A9UIa2TFukcWsrgvG6Px7m5eaigZSM6OG0V2OEVCh7I-pSO1A_vpft1h2c-LBeH6cryte_IV0r_PbXdc8GMFGdsxH_XvygaKYumc-SW8IF4Qh1c3czNEVPCZzvK7qKyC5yY6sDTGPsd7uSvRXI2MRlRUz3Ik4fyv_D9EwLQMx6asgVigc0saK5yIlnMkaYiCbY1HuuOfPbgQCiEHkg1LaCWYvk3iFQ6_Z09rVeqNoFcPCRj2UxQ88xj4D3RsxL8OlSwFXPRKMIcvHiYKZCfhHa2NlG8g4rPxrcG9TUaegdMUBIEHjGC-XDLgOZ-1pNgiUUXxmn-1vfAhLqqbwSky7AsrLMWg5YZJgzHQIrj4r_g4QA/file [following]\n",
            "--2020-08-12 21:15:20--  https://uc68abc80966f4feda6abe4d8581.dl.dropboxusercontent.com/cd/0/inline2/A9UIa2TFukcWsrgvG6Px7m5eaigZSM6OG0V2OEVCh7I-pSO1A_vpft1h2c-LBeH6cryte_IV0r_PbXdc8GMFGdsxH_XvygaKYumc-SW8IF4Qh1c3czNEVPCZzvK7qKyC5yY6sDTGPsd7uSvRXI2MRlRUz3Ik4fyv_D9EwLQMx6asgVigc0saK5yIlnMkaYiCbY1HuuOfPbgQCiEHkg1LaCWYvk3iFQ6_Z09rVeqNoFcPCRj2UxQ88xj4D3RsxL8OlSwFXPRKMIcvHiYKZCfhHa2NlG8g4rPxrcG9TUaegdMUBIEHjGC-XDLgOZ-1pNgiUUXxmn-1vfAhLqqbwSky7AsrLMWg5YZJgzHQIrj4r_g4QA/file\n",
            "Reusing existing connection to uc68abc80966f4feda6abe4d8581.dl.dropboxusercontent.com:443.\n",
            "HTTP request sent, awaiting response... 200 OK\n",
            "Length: 266131 (260K) [application/zip]\n",
            "Saving to: ‘Complete-Feature-Engineering-master.zip?dl=0’\n",
            "\n",
            "Complete-Feature-En 100%[===================>] 259.89K  --.-KB/s    in 0.09s   \n",
            "\n",
            "2020-08-12 21:15:20 (2.68 MB/s) - ‘Complete-Feature-Engineering-master.zip?dl=0’ saved [266131/266131]\n",
            "\n"
          ],
          "name": "stdout"
        }
      ]
    },
    {
      "cell_type": "code",
      "metadata": {
        "id": "C4mO-_rdhqlD",
        "colab_type": "code",
        "colab": {
          "base_uri": "https://localhost:8080/",
          "height": 163
        },
        "outputId": "6c3282f5-ed15-4255-aacd-dc6a0485eaa8"
      },
      "source": [
        "!unzip Complete-Feature-Engineering-master.zip?dl=0 -d \"data/\""
      ],
      "execution_count": null,
      "outputs": [
        {
          "output_type": "stream",
          "text": [
            "Archive:  Complete-Feature-Engineering-master.zip?dl=0\n",
            "995e4dd22684bc60f3374a6f1e3563f79889a835\n",
            "   creating: data/Complete-Feature-Engineering-master/\n",
            "  inflating: data/Complete-Feature-Engineering-master/1_OHE_variables_with_many_labels.ipynb  \n",
            "  inflating: data/Complete-Feature-Engineering-master/2.Count_frequency_encoding.ipynb  \n",
            "  inflating: data/Complete-Feature-Engineering-master/3_Ordinal_encoding.ipynb  \n",
            " extracting: data/Complete-Feature-Engineering-master/README.md  \n",
            "  inflating: data/Complete-Feature-Engineering-master/mercedesbenz.csv  \n"
          ],
          "name": "stdout"
        }
      ]
    },
    {
      "cell_type": "code",
      "metadata": {
        "id": "UzEUna9Vh4pT",
        "colab_type": "code",
        "colab": {}
      },
      "source": [
        "import pandas as pd\n",
        "import numpy as np"
      ],
      "execution_count": null,
      "outputs": []
    },
    {
      "cell_type": "code",
      "metadata": {
        "id": "qrEc7ITTiYFm",
        "colab_type": "code",
        "colab": {}
      },
      "source": [
        "data=pd.read_csv('/content/data/Complete-Feature-Engineering-master/mercedesbenz.csv',usecols=['X1','X2'])"
      ],
      "execution_count": null,
      "outputs": []
    },
    {
      "cell_type": "code",
      "metadata": {
        "id": "iorcVaVSiaWL",
        "colab_type": "code",
        "colab": {
          "base_uri": "https://localhost:8080/",
          "height": 126
        },
        "outputId": "ee94c1ea-784f-45a1-8719-c67907bb0aad"
      },
      "source": [
        "print(data.head())"
      ],
      "execution_count": null,
      "outputs": [
        {
          "output_type": "stream",
          "text": [
            "  X1  X2\n",
            "0  v  at\n",
            "1  t  av\n",
            "2  w   n\n",
            "3  t   n\n",
            "4  v   n\n"
          ],
          "name": "stdout"
        }
      ]
    },
    {
      "cell_type": "code",
      "metadata": {
        "id": "nNXAEOhzib_N",
        "colab_type": "code",
        "colab": {
          "base_uri": "https://localhost:8080/",
          "height": 35
        },
        "outputId": "5ed2622c-5923-42a4-83c8-7946a1f6e2f1"
      },
      "source": [
        "# one hot encoding :\n",
        "pd.get_dummies(data).shape"
      ],
      "execution_count": null,
      "outputs": [
        {
          "output_type": "execute_result",
          "data": {
            "text/plain": [
              "(4209, 71)"
            ]
          },
          "metadata": {
            "tags": []
          },
          "execution_count": 14
        }
      ]
    },
    {
      "cell_type": "code",
      "metadata": {
        "id": "Uy1Y6RmukobP",
        "colab_type": "code",
        "colab": {
          "base_uri": "https://localhost:8080/",
          "height": 54
        },
        "outputId": "4043c131-3893-47c3-82aa-4ede1832817c"
      },
      "source": [
        "for col in data.columns:\n",
        "  print(col+\":\"+str(len(data[col].unique()))+\" labels\")"
      ],
      "execution_count": null,
      "outputs": [
        {
          "output_type": "stream",
          "text": [
            "X1:27 labels\n",
            "X2:44 labels\n"
          ],
          "name": "stdout"
        }
      ]
    },
    {
      "cell_type": "code",
      "metadata": {
        "id": "qZkv_wPPleYy",
        "colab_type": "code",
        "colab": {
          "base_uri": "https://localhost:8080/",
          "height": 817
        },
        "outputId": "b54897c9-1f4c-4317-8dca-8edd333fcf74"
      },
      "source": [
        "# lets obtain the counts of each label in X2 and convert it into dictionary :\n",
        "data.X2.value_counts().to_dict()"
      ],
      "execution_count": null,
      "outputs": [
        {
          "output_type": "execute_result",
          "data": {
            "text/plain": [
              "{'a': 47,\n",
              " 'aa': 1,\n",
              " 'ac': 13,\n",
              " 'ae': 496,\n",
              " 'af': 1,\n",
              " 'ag': 19,\n",
              " 'ah': 4,\n",
              " 'ai': 415,\n",
              " 'ak': 265,\n",
              " 'al': 5,\n",
              " 'am': 1,\n",
              " 'an': 5,\n",
              " 'ao': 20,\n",
              " 'ap': 11,\n",
              " 'aq': 63,\n",
              " 'ar': 1,\n",
              " 'as': 1659,\n",
              " 'at': 6,\n",
              " 'au': 3,\n",
              " 'av': 4,\n",
              " 'aw': 8,\n",
              " 'ay': 54,\n",
              " 'b': 21,\n",
              " 'c': 1,\n",
              " 'd': 18,\n",
              " 'e': 81,\n",
              " 'f': 87,\n",
              " 'g': 12,\n",
              " 'h': 6,\n",
              " 'i': 25,\n",
              " 'j': 1,\n",
              " 'k': 25,\n",
              " 'l': 1,\n",
              " 'm': 367,\n",
              " 'n': 137,\n",
              " 'o': 1,\n",
              " 'p': 4,\n",
              " 'q': 5,\n",
              " 'r': 153,\n",
              " 's': 94,\n",
              " 't': 29,\n",
              " 'x': 10,\n",
              " 'y': 11,\n",
              " 'z': 19}"
            ]
          },
          "metadata": {
            "tags": []
          },
          "execution_count": 19
        }
      ]
    },
    {
      "cell_type": "code",
      "metadata": {
        "id": "x2NbEzvymHjV",
        "colab_type": "code",
        "colab": {}
      },
      "source": [
        "df_frequency_count=data.X2.value_counts().to_dict()"
      ],
      "execution_count": null,
      "outputs": []
    },
    {
      "cell_type": "code",
      "metadata": {
        "id": "IMmCf0Q-mXxV",
        "colab_type": "code",
        "colab": {}
      },
      "source": [
        "# now we replace X2 labels with their count :\n",
        "data.X2=data.X2.map(df_frequency_count)"
      ],
      "execution_count": null,
      "outputs": []
    },
    {
      "cell_type": "code",
      "metadata": {
        "id": "H5uFeCUqmjVF",
        "colab_type": "code",
        "colab": {
          "base_uri": "https://localhost:8080/",
          "height": 126
        },
        "outputId": "f1d256bf-147c-48c9-f2ff-68b55d5b5db7"
      },
      "source": [
        "print(data.head())"
      ],
      "execution_count": null,
      "outputs": [
        {
          "output_type": "stream",
          "text": [
            "  X1   X2\n",
            "0  v    6\n",
            "1  t    4\n",
            "2  w  137\n",
            "3  t  137\n",
            "4  v  137\n"
          ],
          "name": "stdout"
        }
      ]
    },
    {
      "cell_type": "code",
      "metadata": {
        "id": "6PiOJoLgmk0B",
        "colab_type": "code",
        "colab": {}
      },
      "source": [
        "df_frequency_count=data.X1.value_counts().to_dict()\n",
        "data.X1=data.X1.map(df_frequency_count)"
      ],
      "execution_count": null,
      "outputs": []
    },
    {
      "cell_type": "code",
      "metadata": {
        "id": "Re3xrgQ2m0dy",
        "colab_type": "code",
        "colab": {
          "base_uri": "https://localhost:8080/",
          "height": 126
        },
        "outputId": "3ca92cb0-538d-495e-903a-d271a50951c4"
      },
      "source": [
        "print(data.head())"
      ],
      "execution_count": null,
      "outputs": [
        {
          "output_type": "stream",
          "text": [
            "    X1   X2\n",
            "0  408    6\n",
            "1   31    4\n",
            "2   52  137\n",
            "3   31  137\n",
            "4  408  137\n"
          ],
          "name": "stdout"
        }
      ]
    },
    {
      "cell_type": "code",
      "metadata": {
        "id": "MpavP4zam7aO",
        "colab_type": "code",
        "colab": {}
      },
      "source": [
        ""
      ],
      "execution_count": null,
      "outputs": []
    }
  ]
}